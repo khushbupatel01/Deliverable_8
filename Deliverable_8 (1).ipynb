{
  "nbformat": 4,
  "nbformat_minor": 0,
  "metadata": {
    "colab": {
      "provenance": []
    },
    "kernelspec": {
      "name": "python3",
      "display_name": "Python 3"
    },
    "language_info": {
      "name": "python"
    }
  },
  "cells": [
    {
      "cell_type": "code",
      "source": [
        "# Author: Khushbu Patel\n",
        "# Date: 3/22/2023\n",
        "# Description: A user entry that populates a random array and the sum of that array, using Python methods."
      ],
      "metadata": {
        "id": "0Xr9QArYR-JT"
      },
      "execution_count": null,
      "outputs": []
    },
    {
      "cell_type": "code",
      "execution_count": 17,
      "metadata": {
        "id": "04oMVKv-JamY"
      },
      "outputs": [],
      "source": [
        "import numpy as np"
      ]
    },
    {
      "cell_type": "code",
      "source": [
        "def random_list(size):\n",
        "  list = []\n",
        "  for i in range(size):\n",
        "    list.append(np.random.randint(10,50))\n",
        "  return list\n",
        "\n",
        "def sum_random (list):\n",
        "  sum = 0\n",
        "  for i in range(len(list)):\n",
        "    sum = sum + list[i]\n",
        "  return sum"
      ],
      "metadata": {
        "id": "CmTmM-XyLUqG"
      },
      "execution_count": 2,
      "outputs": []
    },
    {
      "cell_type": "code",
      "source": [
        "while True:\n",
        "  n = int(input(\"Please enter an integar between 5 and 15: \"))\n",
        "\n",
        "  if n >= 5 and n <= 15:\n",
        "    lst = random_list(n)\n",
        "    print(\"The elements of the array are: \", lst)\n",
        "    Sum = sum_random(lst)\n",
        "    print(\"The sum is: \", Sum)\n",
        "    break\n",
        "  else:\n",
        "    print(\"This input is invalid, please enter a number between 5 and 15!\")"
      ],
      "metadata": {
        "id": "axyuiNneM6oa"
      },
      "execution_count": null,
      "outputs": []
    }
  ]
}